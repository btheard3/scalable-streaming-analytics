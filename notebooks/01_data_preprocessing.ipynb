{
 "cells": [
  {
   "cell_type": "code",
   "execution_count": 1,
   "id": "e7d07eb9-ba7d-4989-a4f4-50f50e872046",
   "metadata": {},
   "outputs": [
    {
     "name": "stdout",
     "output_type": "stream",
     "text": [
      "Note: you may need to restart the kernel to use updated packages.\n"
     ]
    }
   ],
   "source": [
    "# -----------------------------------------------\n",
    "# [] 1. Import Libraries\n",
    "# -----------------------------------------------\n",
    "import os\n",
    "%pip install google-cloud-bigquery db-dtypes --quiet\n",
    "\n",
    "from google.cloud import bigquery\n",
    "import pandas as pd\n",
    "import numpy as np\n",
    "from sklearn.preprocessing import MinMaxScaler\n",
    "import matplotlib.pyplot as plt\n",
    "import seaborn as sns\n",
    "\n"
   ]
  },
  {
   "cell_type": "code",
   "execution_count": 2,
   "id": "cc0d09ee-35da-442f-970a-bedf0db76d17",
   "metadata": {},
   "outputs": [],
   "source": [
    "# Make sure you've run: gcloud auth application-default login\n",
    "client = bigquery.Client()"
   ]
  },
  {
   "cell_type": "code",
   "execution_count": 3,
   "id": "fc0a40cf-7aa1-48fd-8243-b480bebc339a",
   "metadata": {},
   "outputs": [
    {
     "name": "stderr",
     "output_type": "stream",
     "text": [
      "WARNING: All log messages before absl::InitializeLog() is called are written to STDERR\n",
      "I0000 00:00:1743712450.353514    2410 check_gcp_environment.cc:61] BIOS data file does not exist or cannot be opened.\n"
     ]
    },
    {
     "data": {
      "application/vnd.microsoft.datawrangler.viewer.v0+json": {
       "columns": [
        {
         "name": "index",
         "rawType": "int64",
         "type": "integer"
        },
        {
         "name": "user_id",
         "rawType": "Int64",
         "type": "integer"
        },
        {
         "name": "event",
         "rawType": "object",
         "type": "string"
        },
        {
         "name": "content_id",
         "rawType": "object",
         "type": "string"
        },
        {
         "name": "timestamp",
         "rawType": "float64",
         "type": "float"
        }
       ],
       "conversionMethod": "pd.DataFrame",
       "ref": "3a9f5c50-154b-4ba5-88ad-4caabf0d45ee",
       "rows": [
        [
         "0",
         "57",
         "click",
         "content_34",
         "1743712307.2894247"
        ],
        [
         "1",
         "10",
         "share",
         "content_5",
         "1743712343.9169343"
        ],
        [
         "2",
         "78",
         "share",
         "content_3",
         "1743712328.3552625"
        ],
        [
         "3",
         "78",
         "click",
         "content_31",
         "1743712314.7705743"
        ],
        [
         "4",
         "8",
         "click",
         "content_2",
         "1743712378.5557778"
        ]
       ],
       "shape": {
        "columns": 4,
        "rows": 5
       }
      },
      "text/html": [
       "<div>\n",
       "<style scoped>\n",
       "    .dataframe tbody tr th:only-of-type {\n",
       "        vertical-align: middle;\n",
       "    }\n",
       "\n",
       "    .dataframe tbody tr th {\n",
       "        vertical-align: top;\n",
       "    }\n",
       "\n",
       "    .dataframe thead th {\n",
       "        text-align: right;\n",
       "    }\n",
       "</style>\n",
       "<table border=\"1\" class=\"dataframe\">\n",
       "  <thead>\n",
       "    <tr style=\"text-align: right;\">\n",
       "      <th></th>\n",
       "      <th>user_id</th>\n",
       "      <th>event</th>\n",
       "      <th>content_id</th>\n",
       "      <th>timestamp</th>\n",
       "    </tr>\n",
       "  </thead>\n",
       "  <tbody>\n",
       "    <tr>\n",
       "      <th>0</th>\n",
       "      <td>57</td>\n",
       "      <td>click</td>\n",
       "      <td>content_34</td>\n",
       "      <td>1.743712e+09</td>\n",
       "    </tr>\n",
       "    <tr>\n",
       "      <th>1</th>\n",
       "      <td>10</td>\n",
       "      <td>share</td>\n",
       "      <td>content_5</td>\n",
       "      <td>1.743712e+09</td>\n",
       "    </tr>\n",
       "    <tr>\n",
       "      <th>2</th>\n",
       "      <td>78</td>\n",
       "      <td>share</td>\n",
       "      <td>content_3</td>\n",
       "      <td>1.743712e+09</td>\n",
       "    </tr>\n",
       "    <tr>\n",
       "      <th>3</th>\n",
       "      <td>78</td>\n",
       "      <td>click</td>\n",
       "      <td>content_31</td>\n",
       "      <td>1.743712e+09</td>\n",
       "    </tr>\n",
       "    <tr>\n",
       "      <th>4</th>\n",
       "      <td>8</td>\n",
       "      <td>click</td>\n",
       "      <td>content_2</td>\n",
       "      <td>1.743712e+09</td>\n",
       "    </tr>\n",
       "  </tbody>\n",
       "</table>\n",
       "</div>"
      ],
      "text/plain": [
       "   user_id  event  content_id     timestamp\n",
       "0       57  click  content_34  1.743712e+09\n",
       "1       10  share   content_5  1.743712e+09\n",
       "2       78  share   content_3  1.743712e+09\n",
       "3       78  click  content_31  1.743712e+09\n",
       "4        8  click   content_2  1.743712e+09"
      ]
     },
     "execution_count": 3,
     "metadata": {},
     "output_type": "execute_result"
    }
   ],
   "source": [
    "query = \"\"\"\n",
    "SELECT *\n",
    "FROM `scalable-streaming-analytics.streaming_data.processed_events`\n",
    "WHERE timestamp >= UNIX_SECONDS(CURRENT_TIMESTAMP()) - 3600\n",
    "\"\"\"\n",
    "\n",
    "df = client.query(query).to_dataframe()\n",
    "df.head()"
   ]
  },
  {
   "cell_type": "code",
   "execution_count": 4,
   "id": "3eab3160-7346-47c1-9ab1-2a7a5d6567e4",
   "metadata": {},
   "outputs": [
    {
     "name": "stdout",
     "output_type": "stream",
     "text": [
      "Missing values:\n",
      " user_id       0\n",
      "event         0\n",
      "content_id    0\n",
      "timestamp     0\n",
      "dtype: int64\n",
      "\n",
      "Data types:\n",
      " user_id         Int64\n",
      "event          object\n",
      "content_id     object\n",
      "timestamp     float64\n",
      "dtype: object\n"
     ]
    }
   ],
   "source": [
    "print(\"Missing values:\\n\", df.isnull().sum())\n",
    "print(\"\\nData types:\\n\", df.dtypes)\n",
    "\n",
    "# Convert UNIX timestamp to datetime\n",
    "df['timestamp'] = pd.to_datetime(df['timestamp'], unit='s')\n",
    "\n",
    "# Encode categorical column\n",
    "df['event'] = df['event'].astype('category')\n"
   ]
  },
  {
   "cell_type": "code",
   "execution_count": 5,
   "id": "c5423d7c-1870-410b-b90f-428b099c29b9",
   "metadata": {},
   "outputs": [],
   "source": [
    "df.drop_duplicates(inplace=True)\n"
   ]
  },
  {
   "cell_type": "code",
   "execution_count": 6,
   "id": "1d114d73-919d-4fb0-bfd9-511e9ab74a55",
   "metadata": {},
   "outputs": [
    {
     "data": {
      "application/vnd.microsoft.datawrangler.viewer.v0+json": {
       "columns": [
        {
         "name": "index",
         "rawType": "int64",
         "type": "integer"
        },
        {
         "name": "user_id",
         "rawType": "Int64",
         "type": "integer"
        },
        {
         "name": "event",
         "rawType": "category",
         "type": "unknown"
        },
        {
         "name": "content_id",
         "rawType": "object",
         "type": "string"
        },
        {
         "name": "timestamp",
         "rawType": "datetime64[ns]",
         "type": "datetime"
        }
       ],
       "conversionMethod": "pd.DataFrame",
       "ref": "0ba9bb3e-ac8b-41fe-b4e9-ced663aa1e17",
       "rows": [
        [
         "0",
         "57",
         "click",
         "content_34",
         "2025-04-03 20:31:47.289424640"
        ],
        [
         "1",
         "10",
         "share",
         "content_5",
         "2025-04-03 20:32:23.916934144"
        ],
        [
         "2",
         "78",
         "share",
         "content_3",
         "2025-04-03 20:32:08.355262464"
        ],
        [
         "3",
         "78",
         "click",
         "content_31",
         "2025-04-03 20:31:54.770574336"
        ],
        [
         "4",
         "8",
         "click",
         "content_2",
         "2025-04-03 20:32:58.555777792"
        ]
       ],
       "shape": {
        "columns": 4,
        "rows": 5
       }
      },
      "text/html": [
       "<div>\n",
       "<style scoped>\n",
       "    .dataframe tbody tr th:only-of-type {\n",
       "        vertical-align: middle;\n",
       "    }\n",
       "\n",
       "    .dataframe tbody tr th {\n",
       "        vertical-align: top;\n",
       "    }\n",
       "\n",
       "    .dataframe thead th {\n",
       "        text-align: right;\n",
       "    }\n",
       "</style>\n",
       "<table border=\"1\" class=\"dataframe\">\n",
       "  <thead>\n",
       "    <tr style=\"text-align: right;\">\n",
       "      <th></th>\n",
       "      <th>user_id</th>\n",
       "      <th>event</th>\n",
       "      <th>content_id</th>\n",
       "      <th>timestamp</th>\n",
       "    </tr>\n",
       "  </thead>\n",
       "  <tbody>\n",
       "    <tr>\n",
       "      <th>0</th>\n",
       "      <td>57</td>\n",
       "      <td>click</td>\n",
       "      <td>content_34</td>\n",
       "      <td>2025-04-03 20:31:47.289424640</td>\n",
       "    </tr>\n",
       "    <tr>\n",
       "      <th>1</th>\n",
       "      <td>10</td>\n",
       "      <td>share</td>\n",
       "      <td>content_5</td>\n",
       "      <td>2025-04-03 20:32:23.916934144</td>\n",
       "    </tr>\n",
       "    <tr>\n",
       "      <th>2</th>\n",
       "      <td>78</td>\n",
       "      <td>share</td>\n",
       "      <td>content_3</td>\n",
       "      <td>2025-04-03 20:32:08.355262464</td>\n",
       "    </tr>\n",
       "    <tr>\n",
       "      <th>3</th>\n",
       "      <td>78</td>\n",
       "      <td>click</td>\n",
       "      <td>content_31</td>\n",
       "      <td>2025-04-03 20:31:54.770574336</td>\n",
       "    </tr>\n",
       "    <tr>\n",
       "      <th>4</th>\n",
       "      <td>8</td>\n",
       "      <td>click</td>\n",
       "      <td>content_2</td>\n",
       "      <td>2025-04-03 20:32:58.555777792</td>\n",
       "    </tr>\n",
       "  </tbody>\n",
       "</table>\n",
       "</div>"
      ],
      "text/plain": [
       "   user_id  event  content_id                     timestamp\n",
       "0       57  click  content_34 2025-04-03 20:31:47.289424640\n",
       "1       10  share   content_5 2025-04-03 20:32:23.916934144\n",
       "2       78  share   content_3 2025-04-03 20:32:08.355262464\n",
       "3       78  click  content_31 2025-04-03 20:31:54.770574336\n",
       "4        8  click   content_2 2025-04-03 20:32:58.555777792"
      ]
     },
     "execution_count": 6,
     "metadata": {},
     "output_type": "execute_result"
    }
   ],
   "source": [
    "def remove_timestamp_outliers(df):\n",
    "    Q1 = df['timestamp'].quantile(0.25)\n",
    "    Q3 = df['timestamp'].quantile(0.75)\n",
    "    IQR = Q3 - Q1\n",
    "\n",
    "    lower_bound = Q1 - 1.5 * IQR\n",
    "    upper_bound = Q3 + 1.5 * IQR\n",
    "\n",
    "    return df[(df['timestamp'] >= lower_bound) & (df['timestamp'] <= upper_bound)]\n",
    "\n",
    "df = remove_timestamp_outliers(df)\n",
    "df.head()\n"
   ]
  },
  {
   "cell_type": "code",
   "execution_count": 7,
   "id": "77bba7aa",
   "metadata": {},
   "outputs": [
    {
     "data": {
      "application/vnd.microsoft.datawrangler.viewer.v0+json": {
       "columns": [
        {
         "name": "index",
         "rawType": "int64",
         "type": "integer"
        },
        {
         "name": "user_id",
         "rawType": "Int64",
         "type": "integer"
        },
        {
         "name": "event",
         "rawType": "category",
         "type": "unknown"
        },
        {
         "name": "content_id",
         "rawType": "object",
         "type": "string"
        },
        {
         "name": "timestamp",
         "rawType": "float64",
         "type": "float"
        }
       ],
       "conversionMethod": "pd.DataFrame",
       "ref": "450bffa6-9ebc-4068-b4bb-63dac50f45ea",
       "rows": [
        [
         "0",
         "57",
         "click",
         "content_34",
         "0.1006142795085907"
        ],
        [
         "1",
         "10",
         "share",
         "content_5",
         "0.5184793509542942"
        ],
        [
         "2",
         "78",
         "share",
         "content_3",
         "0.34094396606087685"
        ],
        [
         "3",
         "78",
         "click",
         "content_31",
         "0.1859630048274994"
        ],
        [
         "4",
         "8",
         "click",
         "content_2",
         "0.9136567190289497"
        ]
       ],
       "shape": {
        "columns": 4,
        "rows": 5
       }
      },
      "text/html": [
       "<div>\n",
       "<style scoped>\n",
       "    .dataframe tbody tr th:only-of-type {\n",
       "        vertical-align: middle;\n",
       "    }\n",
       "\n",
       "    .dataframe tbody tr th {\n",
       "        vertical-align: top;\n",
       "    }\n",
       "\n",
       "    .dataframe thead th {\n",
       "        text-align: right;\n",
       "    }\n",
       "</style>\n",
       "<table border=\"1\" class=\"dataframe\">\n",
       "  <thead>\n",
       "    <tr style=\"text-align: right;\">\n",
       "      <th></th>\n",
       "      <th>user_id</th>\n",
       "      <th>event</th>\n",
       "      <th>content_id</th>\n",
       "      <th>timestamp</th>\n",
       "    </tr>\n",
       "  </thead>\n",
       "  <tbody>\n",
       "    <tr>\n",
       "      <th>0</th>\n",
       "      <td>57</td>\n",
       "      <td>click</td>\n",
       "      <td>content_34</td>\n",
       "      <td>0.100614</td>\n",
       "    </tr>\n",
       "    <tr>\n",
       "      <th>1</th>\n",
       "      <td>10</td>\n",
       "      <td>share</td>\n",
       "      <td>content_5</td>\n",
       "      <td>0.518479</td>\n",
       "    </tr>\n",
       "    <tr>\n",
       "      <th>2</th>\n",
       "      <td>78</td>\n",
       "      <td>share</td>\n",
       "      <td>content_3</td>\n",
       "      <td>0.340944</td>\n",
       "    </tr>\n",
       "    <tr>\n",
       "      <th>3</th>\n",
       "      <td>78</td>\n",
       "      <td>click</td>\n",
       "      <td>content_31</td>\n",
       "      <td>0.185963</td>\n",
       "    </tr>\n",
       "    <tr>\n",
       "      <th>4</th>\n",
       "      <td>8</td>\n",
       "      <td>click</td>\n",
       "      <td>content_2</td>\n",
       "      <td>0.913657</td>\n",
       "    </tr>\n",
       "  </tbody>\n",
       "</table>\n",
       "</div>"
      ],
      "text/plain": [
       "   user_id  event  content_id  timestamp\n",
       "0       57  click  content_34   0.100614\n",
       "1       10  share   content_5   0.518479\n",
       "2       78  share   content_3   0.340944\n",
       "3       78  click  content_31   0.185963\n",
       "4        8  click   content_2   0.913657"
      ]
     },
     "execution_count": 7,
     "metadata": {},
     "output_type": "execute_result"
    }
   ],
   "source": [
    "scaler = MinMaxScaler()\n",
    "df['timestamp'] = scaler.fit_transform(df[['timestamp']])\n",
    "df.head()"
   ]
  },
  {
   "cell_type": "code",
   "execution_count": 8,
   "id": "0e663416",
   "metadata": {},
   "outputs": [],
   "source": [
    "df.to_csv('data/cleaned_events.csv', index=False)"
   ]
  }
 ],
 "metadata": {
  "kernelspec": {
   "display_name": "venv",
   "language": "python",
   "name": "python3"
  },
  "language_info": {
   "codemirror_mode": {
    "name": "ipython",
    "version": 3
   },
   "file_extension": ".py",
   "mimetype": "text/x-python",
   "name": "python",
   "nbconvert_exporter": "python",
   "pygments_lexer": "ipython3",
   "version": "3.10.9"
  }
 },
 "nbformat": 4,
 "nbformat_minor": 5
}
