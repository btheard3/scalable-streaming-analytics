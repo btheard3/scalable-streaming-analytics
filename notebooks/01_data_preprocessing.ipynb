{
 "cells": [
  {
   "cell_type": "code",
   "execution_count": 1,
   "id": "e7d07eb9-ba7d-4989-a4f4-50f50e872046",
   "metadata": {},
   "outputs": [],
   "source": [
    "# Import required libraries\n",
    "import pandas as pd\n",
    "import numpy as np\n",
    "import os\n",
    "\n",
    "# Visualization (for insights)\n",
    "import matplotlib.pyplot as plt\n",
    "import seaborn as sns"
   ]
  },
  {
   "cell_type": "code",
   "execution_count": 2,
   "id": "7fb62915-9cbc-4c61-afac-00f9523a94c9",
   "metadata": {},
   "outputs": [
    {
     "name": "stdout",
     "output_type": "stream",
     "text": [
      "Requirement already satisfied: db-dtypes in c:\\users\\bthea\\scalable-streaming-analytics\\venv\\lib\\site-packages (1.4.1)\n",
      "Requirement already satisfied: packaging>=17.0 in c:\\users\\bthea\\scalable-streaming-analytics\\venv\\lib\\site-packages (from db-dtypes) (24.2)\n",
      "Requirement already satisfied: pandas>=0.24.2 in c:\\users\\bthea\\scalable-streaming-analytics\\venv\\lib\\site-packages (from db-dtypes) (2.2.3)\n",
      "Requirement already satisfied: pyarrow>=3.0.0 in c:\\users\\bthea\\scalable-streaming-analytics\\venv\\lib\\site-packages (from db-dtypes) (16.1.0)\n",
      "Requirement already satisfied: numpy>=1.16.6 in c:\\users\\bthea\\scalable-streaming-analytics\\venv\\lib\\site-packages (from db-dtypes) (2.2.3)\n",
      "Requirement already satisfied: python-dateutil>=2.8.2 in c:\\users\\bthea\\scalable-streaming-analytics\\venv\\lib\\site-packages (from pandas>=0.24.2->db-dtypes) (2.9.0.post0)\n",
      "Requirement already satisfied: pytz>=2020.1 in c:\\users\\bthea\\scalable-streaming-analytics\\venv\\lib\\site-packages (from pandas>=0.24.2->db-dtypes) (2025.1)\n",
      "Requirement already satisfied: tzdata>=2022.7 in c:\\users\\bthea\\scalable-streaming-analytics\\venv\\lib\\site-packages (from pandas>=0.24.2->db-dtypes) (2025.1)\n",
      "Requirement already satisfied: six>=1.5 in c:\\users\\bthea\\scalable-streaming-analytics\\venv\\lib\\site-packages (from python-dateutil>=2.8.2->pandas>=0.24.2->db-dtypes) (1.17.0)\n"
     ]
    }
   ],
   "source": [
    "!pip install db-dtypes"
   ]
  },
  {
   "cell_type": "code",
   "execution_count": 3,
   "id": "cc0d09ee-35da-442f-970a-bedf0db76d17",
   "metadata": {},
   "outputs": [
    {
     "name": "stderr",
     "output_type": "stream",
     "text": [
      "C:\\Users\\bthea\\scalable-streaming-analytics\\venv\\Lib\\site-packages\\google\\cloud\\bigquery\\table.py:1820: UserWarning: BigQuery Storage module not found, fetch data with the REST endpoint instead.\n",
      "  warnings.warn(\n"
     ]
    },
    {
     "name": "stdout",
     "output_type": "stream",
     "text": [
      "<class 'pandas.core.frame.DataFrame'>\n",
      "RangeIndex: 1000 entries, 0 to 999\n",
      "Data columns (total 4 columns):\n",
      " #   Column      Non-Null Count  Dtype  \n",
      "---  ------      --------------  -----  \n",
      " 0   user_id     1000 non-null   Int64  \n",
      " 1   event       1000 non-null   object \n",
      " 2   content_id  1000 non-null   object \n",
      " 3   timestamp   1000 non-null   float64\n",
      "dtypes: Int64(1), float64(1), object(2)\n",
      "memory usage: 32.4+ KB\n"
     ]
    },
    {
     "data": {
      "text/html": [
       "<div>\n",
       "<style scoped>\n",
       "    .dataframe tbody tr th:only-of-type {\n",
       "        vertical-align: middle;\n",
       "    }\n",
       "\n",
       "    .dataframe tbody tr th {\n",
       "        vertical-align: top;\n",
       "    }\n",
       "\n",
       "    .dataframe thead th {\n",
       "        text-align: right;\n",
       "    }\n",
       "</style>\n",
       "<table border=\"1\" class=\"dataframe\">\n",
       "  <thead>\n",
       "    <tr style=\"text-align: right;\">\n",
       "      <th></th>\n",
       "      <th>user_id</th>\n",
       "      <th>event</th>\n",
       "      <th>content_id</th>\n",
       "      <th>timestamp</th>\n",
       "    </tr>\n",
       "  </thead>\n",
       "  <tbody>\n",
       "    <tr>\n",
       "      <th>0</th>\n",
       "      <td>1</td>\n",
       "      <td>watch</td>\n",
       "      <td>content_5</td>\n",
       "      <td>1.739140e+09</td>\n",
       "    </tr>\n",
       "    <tr>\n",
       "      <th>1</th>\n",
       "      <td>1</td>\n",
       "      <td>like</td>\n",
       "      <td>content_34</td>\n",
       "      <td>1.739506e+09</td>\n",
       "    </tr>\n",
       "    <tr>\n",
       "      <th>2</th>\n",
       "      <td>1</td>\n",
       "      <td>like</td>\n",
       "      <td>content_37</td>\n",
       "      <td>1.739599e+09</td>\n",
       "    </tr>\n",
       "    <tr>\n",
       "      <th>3</th>\n",
       "      <td>1</td>\n",
       "      <td>like</td>\n",
       "      <td>content_6</td>\n",
       "      <td>1.739600e+09</td>\n",
       "    </tr>\n",
       "    <tr>\n",
       "      <th>4</th>\n",
       "      <td>1</td>\n",
       "      <td>like</td>\n",
       "      <td>content_44</td>\n",
       "      <td>1.739600e+09</td>\n",
       "    </tr>\n",
       "  </tbody>\n",
       "</table>\n",
       "</div>"
      ],
      "text/plain": [
       "   user_id  event  content_id     timestamp\n",
       "0        1  watch   content_5  1.739140e+09\n",
       "1        1   like  content_34  1.739506e+09\n",
       "2        1   like  content_37  1.739599e+09\n",
       "3        1   like   content_6  1.739600e+09\n",
       "4        1   like  content_44  1.739600e+09"
      ]
     },
     "execution_count": 3,
     "metadata": {},
     "output_type": "execute_result"
    }
   ],
   "source": [
    "import db_dtypes\n",
    "from google.cloud import bigquery\n",
    "\n",
    "# Set up BigQuery client\n",
    "client = bigquery.Client()\n",
    "\n",
    "# Define query\n",
    "query = \"\"\"\n",
    "SELECT * FROM `scalable-streaming-analytics.streaming_data.events`\n",
    "LIMIT 1000\n",
    "\"\"\"\n",
    "\n",
    "# Load data into Pandas DataFrame\n",
    "df = client.query(query).to_dataframe()\n",
    "\n",
    "# Display basic info\n",
    "df.info()\n",
    "df.head()"
   ]
  },
  {
   "cell_type": "code",
   "execution_count": 4,
   "id": "fc0a40cf-7aa1-48fd-8243-b480bebc339a",
   "metadata": {},
   "outputs": [
    {
     "name": "stdout",
     "output_type": "stream",
     "text": [
      "Missing Values:\n",
      " user_id       0\n",
      "event         0\n",
      "content_id    0\n",
      "timestamp     0\n",
      "dtype: int64\n",
      "\n",
      "Data Types:\n",
      " user_id         Int64\n",
      "event          object\n",
      "content_id     object\n",
      "timestamp     float64\n",
      "dtype: object\n"
     ]
    }
   ],
   "source": [
    "# Check missing values\n",
    "print(\"Missing Values:\\n\", df.isnull().sum())\n",
    "\n",
    "# Check data types\n",
    "print(\"\\nData Types:\\n\", df.dtypes)"
   ]
  },
  {
   "cell_type": "code",
   "execution_count": 5,
   "id": "69b02f5e-019a-40a3-b5e6-f1d7a736b2b3",
   "metadata": {},
   "outputs": [],
   "source": [
    "# Convert timestamp column to datetime\n",
    "df['timestamp'] = pd.to_datetime(df['timestamp'], unit='s')\n",
    "\n",
    "# Encode categorical values if necessary\n",
    "df['event'] = df['event'].astype(\"category\")"
   ]
  },
  {
   "cell_type": "code",
   "execution_count": 8,
   "id": "3eab3160-7346-47c1-9ab1-2a7a5d6567e4",
   "metadata": {},
   "outputs": [
    {
     "name": "stdout",
     "output_type": "stream",
     "text": [
      "IQR: 0 days 00:30:48.690471168\n"
     ]
    },
    {
     "name": "stderr",
     "output_type": "stream",
     "text": [
      "C:\\Users\\bthea\\AppData\\Local\\Temp\\ipykernel_25720\\2640786360.py:2: SettingWithCopyWarning: \n",
      "A value is trying to be set on a copy of a slice from a DataFrame\n",
      "\n",
      "See the caveats in the documentation: https://pandas.pydata.org/pandas-docs/stable/user_guide/indexing.html#returning-a-view-versus-a-copy\n",
      "  df.drop_duplicates(inplace=True)\n"
     ]
    }
   ],
   "source": [
    "# Remove duplicates\n",
    "df.drop_duplicates(inplace=True)\n",
    "\n",
    "# Identify outliers using IQR\n",
    "Q1 = df['timestamp'].quantile(0.25)\n",
    "Q3 = df['timestamp'].quantile(0.75)\n",
    "IQR = Q3 - Q1\n",
    "\n",
    "# Define outlier range\n",
    "lower_bound = Q1 - 1.5 * IQR\n",
    "upper_bound = Q3 + 1.5 * IQR\n",
    "\n",
    "# Filter outliers\n",
    "df = df[(df['timestamp'] >= lower_bound) & (df['timestamp'] <= upper_bound)]\n",
    "print(f\"IQR: {IQR}\")"
   ]
  },
  {
   "cell_type": "code",
   "execution_count": 9,
   "id": "c5423d7c-1870-410b-b90f-428b099c29b9",
   "metadata": {},
   "outputs": [
    {
     "name": "stdout",
     "output_type": "stream",
     "text": [
      "    user_id event  content_id                     timestamp\n",
      "5         1  like   content_9 2025-02-14 20:13:27.839601994\n",
      "6         1  like  content_22 2025-02-14 20:16:39.028926134\n",
      "7         1  like  content_32 2025-02-14 20:39:34.522868395\n",
      "8         1  like  content_48 2025-02-14 20:59:11.585451126\n",
      "13        2  like  content_50 2025-02-14 20:27:24.862315178\n"
     ]
    }
   ],
   "source": [
    "df['timestamp'] = pd.to_datetime(df['timestamp'], unit='s')\n",
    "print(df.head())"
   ]
  },
  {
   "cell_type": "code",
   "execution_count": 10,
   "id": "1d114d73-919d-4fb0-bfd9-511e9ab74a55",
   "metadata": {},
   "outputs": [],
   "source": [
    "df.drop_duplicates(inplace=True)"
   ]
  },
  {
   "cell_type": "code",
   "execution_count": 11,
   "id": "2c556ae6-1865-4112-b062-fc5f6036a450",
   "metadata": {},
   "outputs": [
    {
     "name": "stdout",
     "output_type": "stream",
     "text": [
      "user_id       0\n",
      "event         0\n",
      "content_id    0\n",
      "timestamp     0\n",
      "dtype: int64\n"
     ]
    }
   ],
   "source": [
    "print(df.isnull().sum())  # Check missing values\n",
    "df.dropna(inplace=True)  # Drop if needed"
   ]
  },
  {
   "cell_type": "code",
   "execution_count": 12,
   "id": "0b122e7b-732f-4f75-9622-6a1c9c5adee3",
   "metadata": {},
   "outputs": [],
   "source": [
    "df = df.sort_values(by='timestamp')"
   ]
  },
  {
   "cell_type": "code",
   "execution_count": null,
   "id": "20e530e1-4560-4b65-a804-b20e0df4bde1",
   "metadata": {},
   "outputs": [],
   "source": []
  }
 ],
 "metadata": {
  "kernelspec": {
   "display_name": "Python 3 (ipykernel)",
   "language": "python",
   "name": "python3"
  },
  "language_info": {
   "codemirror_mode": {
    "name": "ipython",
    "version": 3
   },
   "file_extension": ".py",
   "mimetype": "text/x-python",
   "name": "python",
   "nbconvert_exporter": "python",
   "pygments_lexer": "ipython3",
   "version": "3.12.4"
  }
 },
 "nbformat": 4,
 "nbformat_minor": 5
}
