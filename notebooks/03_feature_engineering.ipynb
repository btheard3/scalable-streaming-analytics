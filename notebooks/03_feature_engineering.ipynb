{
 "cells": [
  {
   "cell_type": "code",
   "execution_count": 1,
   "id": "57bd8964-7efe-4c55-860a-726669d4e6d7",
   "metadata": {},
   "outputs": [
    {
     "name": "stdout",
     "output_type": "stream",
     "text": [
      "Requirement already satisfied: pandas in /home/btheard/scalable-streaming-analytics/venv/lib/python3.10/site-packages (1.5.3)\n",
      "Requirement already satisfied: python-dateutil>=2.8.1 in /home/btheard/scalable-streaming-analytics/venv/lib/python3.10/site-packages (from pandas) (2.9.0.post0)\n",
      "Requirement already satisfied: pytz>=2020.1 in /home/btheard/scalable-streaming-analytics/venv/lib/python3.10/site-packages (from pandas) (2025.1)\n",
      "Requirement already satisfied: numpy>=1.21.0 in /home/btheard/scalable-streaming-analytics/venv/lib/python3.10/site-packages (from pandas) (1.23.5)\n",
      "Requirement already satisfied: six>=1.5 in /home/btheard/scalable-streaming-analytics/venv/lib/python3.10/site-packages (from python-dateutil>=2.8.1->pandas) (1.17.0)\n",
      "Note: you may need to restart the kernel to use updated packages.\n"
     ]
    },
    {
     "data": {
      "application/vnd.microsoft.datawrangler.viewer.v0+json": {
       "columns": [
        {
         "name": "index",
         "rawType": "int64",
         "type": "integer"
        },
        {
         "name": "user_id",
         "rawType": "int64",
         "type": "integer"
        },
        {
         "name": "event",
         "rawType": "object",
         "type": "string"
        },
        {
         "name": "content_id",
         "rawType": "object",
         "type": "string"
        },
        {
         "name": "timestamp",
         "rawType": "float64",
         "type": "float"
        }
       ],
       "conversionMethod": "pd.DataFrame",
       "ref": "ffd1aa8d-2c3b-49ae-9bf2-5db68cc8eb7d",
       "rows": [
        [
         "0",
         "57",
         "click",
         "content_34",
         "0.1006142795085907"
        ],
        [
         "1",
         "10",
         "share",
         "content_5",
         "0.5184793509542942"
        ],
        [
         "2",
         "78",
         "share",
         "content_3",
         "0.3409439660608768"
        ],
        [
         "3",
         "78",
         "click",
         "content_31",
         "0.1859630048274994"
        ],
        [
         "4",
         "8",
         "click",
         "content_2",
         "0.9136567190289496"
        ]
       ],
       "shape": {
        "columns": 4,
        "rows": 5
       }
      },
      "text/html": [
       "<div>\n",
       "<style scoped>\n",
       "    .dataframe tbody tr th:only-of-type {\n",
       "        vertical-align: middle;\n",
       "    }\n",
       "\n",
       "    .dataframe tbody tr th {\n",
       "        vertical-align: top;\n",
       "    }\n",
       "\n",
       "    .dataframe thead th {\n",
       "        text-align: right;\n",
       "    }\n",
       "</style>\n",
       "<table border=\"1\" class=\"dataframe\">\n",
       "  <thead>\n",
       "    <tr style=\"text-align: right;\">\n",
       "      <th></th>\n",
       "      <th>user_id</th>\n",
       "      <th>event</th>\n",
       "      <th>content_id</th>\n",
       "      <th>timestamp</th>\n",
       "    </tr>\n",
       "  </thead>\n",
       "  <tbody>\n",
       "    <tr>\n",
       "      <th>0</th>\n",
       "      <td>57</td>\n",
       "      <td>click</td>\n",
       "      <td>content_34</td>\n",
       "      <td>0.100614</td>\n",
       "    </tr>\n",
       "    <tr>\n",
       "      <th>1</th>\n",
       "      <td>10</td>\n",
       "      <td>share</td>\n",
       "      <td>content_5</td>\n",
       "      <td>0.518479</td>\n",
       "    </tr>\n",
       "    <tr>\n",
       "      <th>2</th>\n",
       "      <td>78</td>\n",
       "      <td>share</td>\n",
       "      <td>content_3</td>\n",
       "      <td>0.340944</td>\n",
       "    </tr>\n",
       "    <tr>\n",
       "      <th>3</th>\n",
       "      <td>78</td>\n",
       "      <td>click</td>\n",
       "      <td>content_31</td>\n",
       "      <td>0.185963</td>\n",
       "    </tr>\n",
       "    <tr>\n",
       "      <th>4</th>\n",
       "      <td>8</td>\n",
       "      <td>click</td>\n",
       "      <td>content_2</td>\n",
       "      <td>0.913657</td>\n",
       "    </tr>\n",
       "  </tbody>\n",
       "</table>\n",
       "</div>"
      ],
      "text/plain": [
       "   user_id  event  content_id  timestamp\n",
       "0       57  click  content_34   0.100614\n",
       "1       10  share   content_5   0.518479\n",
       "2       78  share   content_3   0.340944\n",
       "3       78  click  content_31   0.185963\n",
       "4        8  click   content_2   0.913657"
      ]
     },
     "execution_count": 1,
     "metadata": {},
     "output_type": "execute_result"
    }
   ],
   "source": [
    "# Install pandas if not already installed\n",
    "%pip install pandas\n",
    "\n",
    "import pandas as pd\n",
    "import numpy as np\n",
    "\n",
    "# Load preprocessed dataset\n",
    "df = pd.read_csv(\"data/eda_summary.csv\")\n",
    "df.head()\n"
   ]
  },
  {
   "cell_type": "code",
   "execution_count": 2,
   "id": "1d151dbb-2c16-410d-abbb-314ca0eb9ec1",
   "metadata": {},
   "outputs": [
    {
     "name": "stdout",
     "output_type": "stream",
     "text": [
      "Event Mapping: {0: 'click', 1: 'like', 2: 'share', 3: 'watch'}\n"
     ]
    }
   ],
   "source": [
    "# Encode 'event' as numeric\n",
    "df['event_encoded'] = df['event'].astype('category').cat.codes\n",
    "\n",
    "# (Optional) Also keep the mapping\n",
    "event_mapping = dict(enumerate(df['event'].astype('category').cat.categories))\n",
    "print(\"Event Mapping:\", event_mapping)\n"
   ]
  },
  {
   "cell_type": "code",
   "execution_count": 3,
   "id": "c3065865-b654-44a3-acb9-14cb12f07649",
   "metadata": {},
   "outputs": [],
   "source": [
    "# Ensure timestamp is in datetime format\n",
    "df['timestamp'] = pd.to_datetime(df['timestamp'], unit='s', errors='coerce')\n",
    "\n",
    "# Extract hour of day as new feature\n",
    "df['hour'] = df['timestamp'].dt.hour\n"
   ]
  },
  {
   "cell_type": "code",
   "execution_count": 4,
   "id": "09a99a57-85e8-4206-99f0-d9c274756241",
   "metadata": {},
   "outputs": [],
   "source": [
    "# Create simple time-of-day buckets\n",
    "def time_bucket(hour):\n",
    "    if 5 <= hour < 12:\n",
    "        return 'morning'\n",
    "    elif 12 <= hour < 17:\n",
    "        return 'afternoon'\n",
    "    elif 17 <= hour < 21:\n",
    "        return 'evening'\n",
    "    else:\n",
    "        return 'night'\n",
    "\n",
    "df['time_bucket'] = df['hour'].apply(time_bucket)\n",
    "df['time_bucket_encoded'] = df['time_bucket'].astype('category').cat.codes\n"
   ]
  },
  {
   "cell_type": "code",
   "execution_count": 5,
   "id": "14d66676-2e8b-444c-bdb1-cb58110a24cb",
   "metadata": {},
   "outputs": [],
   "source": [
    "df.drop(columns=['timestamp', 'event', 'time_bucket'], inplace=True)"
   ]
  },
  {
   "cell_type": "code",
   "execution_count": 6,
   "id": "b42a98c1-8aaf-448d-b441-5c4d005713a0",
   "metadata": {},
   "outputs": [
    {
     "name": "stdout",
     "output_type": "stream",
     "text": [
      "✅ Feature engineering complete. File saved to: data/engineered_events.csv\n"
     ]
    }
   ],
   "source": [
    "df.to_csv(\"data/engineered_events.csv\", index=False)\n",
    "print(\"✅ Feature engineering complete. File saved to: data/engineered_events.csv\")\n"
   ]
  },
  {
   "cell_type": "code",
   "execution_count": null,
   "id": "207ad7d5-6086-4cdd-b48e-78d478266458",
   "metadata": {},
   "outputs": [],
   "source": []
  }
 ],
 "metadata": {
  "kernelspec": {
   "display_name": "venv",
   "language": "python",
   "name": "python3"
  },
  "language_info": {
   "codemirror_mode": {
    "name": "ipython",
    "version": 3
   },
   "file_extension": ".py",
   "mimetype": "text/x-python",
   "name": "python",
   "nbconvert_exporter": "python",
   "pygments_lexer": "ipython3",
   "version": "3.10.9"
  }
 },
 "nbformat": 4,
 "nbformat_minor": 5
}
