{
 "cells": [
  {
   "cell_type": "code",
   "execution_count": 1,
   "id": "3beed671-ce9e-427b-81ed-4aa6f4ef98d9",
   "metadata": {},
   "outputs": [
    {
     "name": "stdout",
     "output_type": "stream",
     "text": [
      "Models loaded successfully!\n"
     ]
    }
   ],
   "source": [
    "import joblib\n",
    "\n",
    "# Load the models\n",
    "logistic_regression_model = joblib.load(\"../models/logistic_regression.pkl\")\n",
    "random_forest_model = joblib.load(\"../models/random_forest.pkl\")\n",
    "xgb_model = joblib.load(\"../models/xgboost.pkl\")\n",
    "\n",
    "print(\"Models loaded successfully!\")"
   ]
  },
  {
   "cell_type": "code",
   "execution_count": 2,
   "id": "91ce41f8-07e0-427c-b11d-4b932eb0e282",
   "metadata": {},
   "outputs": [
    {
     "name": "stdout",
     "output_type": "stream",
     "text": [
      "Train-test split successful!\n"
     ]
    }
   ],
   "source": [
    "import pandas as pd\n",
    "from sklearn.model_selection import train_test_split\n",
    "\n",
    "# Load the feature dataset\n",
    "features = pd.read_csv(\"../data/features.csv\")\n",
    "\n",
    "# Drop non-contributory columns\n",
    "X = features.drop(columns=[\"user_id\", \"content_id\", \"timestamp\", \"event\"])  # Adjust if necessary\n",
    "y = features[\"event\"]\n",
    "\n",
    "# Encode target variable\n",
    "from sklearn.preprocessing import LabelEncoder\n",
    "encoder = LabelEncoder()\n",
    "y = encoder.fit_transform(y)\n",
    "\n",
    "# Train-test split (same settings as Notebook 4)\n",
    "X_train, X_test, y_train, y_test = train_test_split(X, y, test_size=0.2, random_state=42, stratify=y)\n",
    "\n",
    "print(\"Train-test split successful!\")"
   ]
  },
  {
   "cell_type": "code",
   "execution_count": 4,
   "id": "86ca2043-56bf-4916-93e8-3073c7c3556c",
   "metadata": {},
   "outputs": [
    {
     "name": "stdout",
     "output_type": "stream",
     "text": [
      "hour_of_day                      0\n",
      "day_of_week                      0\n",
      "is_weekend                       0\n",
      "user_event_count                 0\n",
      "unique_content_count             0\n",
      "avg_time_between_interactions    1\n",
      "content_interaction_count        0\n",
      "content_share_ratio              0\n",
      "session_id                       0\n",
      "session_length                   0\n",
      "dtype: int64\n",
      "hour_of_day                      0\n",
      "day_of_week                      0\n",
      "is_weekend                       0\n",
      "user_event_count                 0\n",
      "unique_content_count             0\n",
      "avg_time_between_interactions    1\n",
      "content_interaction_count        0\n",
      "content_share_ratio              0\n",
      "session_id                       0\n",
      "session_length                   0\n",
      "dtype: int64\n"
     ]
    }
   ],
   "source": [
    "print(X_train.isnull().sum())  # Check missing values per column\n",
    "print(X_test.isnull().sum())"
   ]
  },
  {
   "cell_type": "code",
   "execution_count": 5,
   "id": "62c7995a-e1a3-49d8-9f9a-1919829baa2e",
   "metadata": {},
   "outputs": [],
   "source": [
    "from sklearn.impute import SimpleImputer\n",
    "\n",
    "imputer = SimpleImputer(strategy=\"mean\")  # Use \"median\" if needed\n",
    "X_train = pd.DataFrame(imputer.fit_transform(X_train), columns=X_train.columns)\n",
    "X_test = pd.DataFrame(imputer.transform(X_test), columns=X_test.columns)"
   ]
  },
  {
   "cell_type": "code",
   "execution_count": 7,
   "id": "fb032cc7-4182-471b-a9a4-b4d072af72ba",
   "metadata": {},
   "outputs": [],
   "source": [
    "from sklearn.metrics import accuracy_score, classification_report, confusion_matrix\n",
    "\n",
    "def evaluate_model(model, X_test, y_test):\n",
    "    y_pred = model.predict(X_test)  # Ensure predictions are generated\n",
    "    print(\"Accuracy:\", accuracy_score(y_test, y_pred))\n",
    "    print(\"Classification Report:\\n\", classification_report(y_test, y_pred))\n",
    "    print(\"Confusion Matrix:\\n\", confusion_matrix(y_test, y_pred))\n",
    "    print(\"\\n\" + \"=\"*50 + \"\\n\")"
   ]
  },
  {
   "cell_type": "code",
   "execution_count": 8,
   "id": "7c1d27c7-0e82-4298-a3b8-a3f84cac1a72",
   "metadata": {},
   "outputs": [
    {
     "name": "stdout",
     "output_type": "stream",
     "text": [
      "Logistic Regression Performance:\n",
      "Accuracy: 0.8888888888888888\n",
      "Classification Report:\n",
      "               precision    recall  f1-score   support\n",
      "\n",
      "           0       0.89      1.00      0.94        94\n",
      "           1       1.00      0.14      0.25        14\n",
      "\n",
      "    accuracy                           0.89       108\n",
      "   macro avg       0.94      0.57      0.59       108\n",
      "weighted avg       0.90      0.89      0.85       108\n",
      "\n",
      "Confusion Matrix:\n",
      " [[94  0]\n",
      " [12  2]]\n",
      "\n",
      "==================================================\n",
      "\n",
      "Random Forest Performance:\n",
      "Accuracy: 0.8796296296296297\n",
      "Classification Report:\n",
      "               precision    recall  f1-score   support\n",
      "\n",
      "           0       0.90      0.97      0.93        94\n",
      "           1       0.57      0.29      0.38        14\n",
      "\n",
      "    accuracy                           0.88       108\n",
      "   macro avg       0.74      0.63      0.66       108\n",
      "weighted avg       0.86      0.88      0.86       108\n",
      "\n",
      "Confusion Matrix:\n",
      " [[91  3]\n",
      " [10  4]]\n",
      "\n",
      "==================================================\n",
      "\n",
      "XGBoost Performance:\n",
      "Accuracy: 0.8518518518518519\n",
      "Classification Report:\n",
      "               precision    recall  f1-score   support\n",
      "\n",
      "           0       0.90      0.94      0.92        94\n",
      "           1       0.40      0.29      0.33        14\n",
      "\n",
      "    accuracy                           0.85       108\n",
      "   macro avg       0.65      0.61      0.62       108\n",
      "weighted avg       0.83      0.85      0.84       108\n",
      "\n",
      "Confusion Matrix:\n",
      " [[88  6]\n",
      " [10  4]]\n",
      "\n",
      "==================================================\n",
      "\n"
     ]
    }
   ],
   "source": [
    "print(\"Logistic Regression Performance:\")\n",
    "evaluate_model(logistic_regression_model, X_test, y_test)\n",
    "\n",
    "print(\"Random Forest Performance:\")\n",
    "evaluate_model(random_forest_model, X_test, y_test)\n",
    "\n",
    "print(\"XGBoost Performance:\")\n",
    "evaluate_model(xgb_model, X_test, y_test)"
   ]
  },
  {
   "cell_type": "code",
   "execution_count": 9,
   "id": "d154ca87-f818-4d78-9a4f-b2716729e2c3",
   "metadata": {},
   "outputs": [
    {
     "name": "stdout",
     "output_type": "stream",
     "text": [
      "Best Parameters: {'C': 10, 'solver': 'liblinear'}\n",
      "Best Accuracy: 0.8835020519835842\n"
     ]
    },
    {
     "data": {
      "text/plain": [
       "['../models/logistic_regression_tuned.pkl']"
      ]
     },
     "execution_count": 9,
     "metadata": {},
     "output_type": "execute_result"
    }
   ],
   "source": [
    "from sklearn.model_selection import GridSearchCV\n",
    "from sklearn.linear_model import LogisticRegression\n",
    "\n",
    "# Define hyperparameters to tune\n",
    "param_grid = {\n",
    "    'C': [0.01, 0.1, 1, 10, 100],\n",
    "    'solver': ['liblinear', 'lbfgs']\n",
    "}\n",
    "\n",
    "# Set up GridSearch\n",
    "grid_search = GridSearchCV(LogisticRegression(), param_grid, cv=5, scoring='accuracy')\n",
    "grid_search.fit(X_train, y_train)\n",
    "\n",
    "# Print best params & best score\n",
    "print(\"Best Parameters:\", grid_search.best_params_)\n",
    "print(\"Best Accuracy:\", grid_search.best_score_)\n",
    "\n",
    "# Save the best model\n",
    "import joblib\n",
    "joblib.dump(grid_search.best_estimator_, \"../models/logistic_regression_tuned.pkl\")"
   ]
  },
  {
   "cell_type": "code",
   "execution_count": null,
   "id": "bce6ab3f-f100-43fb-91df-35f10592d782",
   "metadata": {},
   "outputs": [],
   "source": []
  }
 ],
 "metadata": {
  "kernelspec": {
   "display_name": "Python 3 (ipykernel)",
   "language": "python",
   "name": "python3"
  },
  "language_info": {
   "codemirror_mode": {
    "name": "ipython",
    "version": 3
   },
   "file_extension": ".py",
   "mimetype": "text/x-python",
   "name": "python",
   "nbconvert_exporter": "python",
   "pygments_lexer": "ipython3",
   "version": "3.12.4"
  }
 },
 "nbformat": 4,
 "nbformat_minor": 5
}
