{
 "cells": [
  {
   "cell_type": "code",
   "execution_count": 1,
   "id": "8a02e563-a466-41e3-bf73-4d1554ffba4f",
   "metadata": {},
   "outputs": [
    {
     "name": "stdout",
     "output_type": "stream",
     "text": [
      "user_id                          0\n",
      "event                            0\n",
      "content_id                       0\n",
      "timestamp                        0\n",
      "hour_of_day                      0\n",
      "day_of_week                      0\n",
      "is_weekend                       0\n",
      "user_event_count                 0\n",
      "unique_content_count             0\n",
      "avg_time_between_interactions    2\n",
      "content_interaction_count        0\n",
      "content_share_ratio              0\n",
      "session_id                       0\n",
      "session_length                   0\n",
      "dtype: int64\n",
      "<class 'pandas.core.frame.DataFrame'>\n",
      "RangeIndex: 537 entries, 0 to 536\n",
      "Data columns (total 14 columns):\n",
      " #   Column                         Non-Null Count  Dtype  \n",
      "---  ------                         --------------  -----  \n",
      " 0   user_id                        537 non-null    int64  \n",
      " 1   event                          537 non-null    object \n",
      " 2   content_id                     537 non-null    object \n",
      " 3   timestamp                      537 non-null    object \n",
      " 4   hour_of_day                    537 non-null    int64  \n",
      " 5   day_of_week                    537 non-null    int64  \n",
      " 6   is_weekend                     537 non-null    int64  \n",
      " 7   user_event_count               537 non-null    int64  \n",
      " 8   unique_content_count           537 non-null    int64  \n",
      " 9   avg_time_between_interactions  535 non-null    float64\n",
      " 10  content_interaction_count      537 non-null    int64  \n",
      " 11  content_share_ratio            537 non-null    float64\n",
      " 12  session_id                     537 non-null    int64  \n",
      " 13  session_length                 537 non-null    int64  \n",
      "dtypes: float64(2), int64(9), object(3)\n",
      "memory usage: 58.9+ KB\n",
      "None\n",
      "   user_id  event  content_id                      timestamp  hour_of_day  \\\n",
      "0       65   like   content_6  1970-01-01 00:00:00.000000000            0   \n",
      "1        9   like  content_12  1970-01-01 00:00:00.000536525            0   \n",
      "2       18   like   content_9  1970-01-01 00:00:00.001076357            0   \n",
      "3       18  share  content_24  1970-01-01 00:00:00.001618562            0   \n",
      "4       13   like  content_32  1970-01-01 00:00:00.004856023            0   \n",
      "\n",
      "   day_of_week  is_weekend  user_event_count  unique_content_count  \\\n",
      "0            3           0                 6                     6   \n",
      "1            3           0                 7                     7   \n",
      "2            3           0                14                    12   \n",
      "3            3           0                14                    12   \n",
      "4            3           0                14                    12   \n",
      "\n",
      "   avg_time_between_interactions  content_interaction_count  \\\n",
      "0                       0.193228                         12   \n",
      "1                       0.166577                         20   \n",
      "2                       0.076304                          9   \n",
      "3                       0.076304                         10   \n",
      "4                       0.072331                         14   \n",
      "\n",
      "   content_share_ratio  session_id  session_length  \n",
      "0             0.083333           0               6  \n",
      "1             0.050000           0               7  \n",
      "2             0.111111           0              14  \n",
      "3             0.200000           0              14  \n",
      "4             0.000000           0              14  \n"
     ]
    }
   ],
   "source": [
    "import pandas as pd\n",
    "\n",
    "# Load the feature dataset\n",
    "features = pd.read_csv(\"../data/features.csv\")\n",
    "\n",
    "# Check for missing values\n",
    "print(features.isnull().sum())\n",
    "\n",
    "# Display dataset information\n",
    "print(features.info())\n",
    "print(features.head())"
   ]
  },
  {
   "cell_type": "code",
   "execution_count": 2,
   "id": "ff87cdc3-4b61-4573-97c4-6cd37ace6f67",
   "metadata": {},
   "outputs": [
    {
     "name": "stdout",
     "output_type": "stream",
     "text": [
      "user_id                          0\n",
      "event                            0\n",
      "content_id                       0\n",
      "timestamp                        0\n",
      "hour_of_day                      0\n",
      "day_of_week                      0\n",
      "is_weekend                       0\n",
      "user_event_count                 0\n",
      "unique_content_count             0\n",
      "avg_time_between_interactions    0\n",
      "content_interaction_count        0\n",
      "content_share_ratio              0\n",
      "session_id                       0\n",
      "session_length                   0\n",
      "dtype: int64\n"
     ]
    }
   ],
   "source": [
    "features.dropna(inplace=True)\n",
    "print(features.isnull().sum())  # Should all be 0 now"
   ]
  },
  {
   "cell_type": "code",
   "execution_count": 3,
   "id": "957ee401-bc55-475e-94d3-0cc7c7a7aa9e",
   "metadata": {},
   "outputs": [
    {
     "name": "stdout",
     "output_type": "stream",
     "text": [
      "(535, 10) (535,)\n"
     ]
    }
   ],
   "source": [
    "# Drop non-contributory columns\n",
    "X = features.drop(columns=[\"user_id\", \"content_id\", \"timestamp\", \"event\"])  # Keep relevant numerical features\n",
    "y = features[\"event\"]  # Target variable\n",
    "\n",
    "# Check data shapes\n",
    "print(X.shape, y.shape)"
   ]
  },
  {
   "cell_type": "code",
   "execution_count": 4,
   "id": "09cbaca5-0d25-4f92-b8dc-d9dfa67aeb14",
   "metadata": {},
   "outputs": [
    {
     "name": "stdout",
     "output_type": "stream",
     "text": [
      "event\n",
      "like     0.871495\n",
      "share    0.128505\n",
      "Name: proportion, dtype: float64\n",
      "event\n",
      "like     0.869159\n",
      "share    0.130841\n",
      "Name: proportion, dtype: float64\n"
     ]
    }
   ],
   "source": [
    "from sklearn.model_selection import train_test_split\n",
    "\n",
    "# Train-test split (80-20)\n",
    "X_train, X_test, y_train, y_test = train_test_split(X, y, test_size=0.2, random_state=42, stratify=y)\n",
    "\n",
    "# Verify distribution\n",
    "print(y_train.value_counts(normalize=True))\n",
    "print(y_test.value_counts(normalize=True))"
   ]
  },
  {
   "cell_type": "code",
   "execution_count": 7,
   "id": "38761ed3-0b56-4af3-96f3-5c892ba42ef6",
   "metadata": {},
   "outputs": [
    {
     "name": "stdout",
     "output_type": "stream",
     "text": [
      "Class Mapping: {np.int64(0): np.int64(0), np.int64(1): np.int64(1)}\n",
      "Encoded y values: [0 1]\n"
     ]
    }
   ],
   "source": [
    "from sklearn.preprocessing import LabelEncoder\n",
    "import numpy as np\n",
    "\n",
    "# Initialize and fit LabelEncoder\n",
    "encoder = LabelEncoder()\n",
    "y_encoded = encoder.fit_transform(y)  # Ensure the encoding is stored in a new variable\n",
    "\n",
    "# Confirm encoding\n",
    "print(\"Class Mapping:\", dict(zip(encoder.classes_, encoder.transform(encoder.classes_))))\n",
    "print(\"Encoded y values:\", np.unique(y_encoded))  # Check if we have only [0,1]\n",
    "\n",
    "# Replace y with the encoded version\n",
    "y = y_encoded"
   ]
  },
  {
   "cell_type": "code",
   "execution_count": 8,
   "id": "4fe081b7-c730-480a-8277-0f7ca3b69890",
   "metadata": {},
   "outputs": [],
   "source": [
    "y = y.astype(int)"
   ]
  },
  {
   "cell_type": "code",
   "execution_count": 9,
   "id": "fe3ff386-dfb6-4f63-9596-b7f7790a6cf3",
   "metadata": {},
   "outputs": [
    {
     "name": "stdout",
     "output_type": "stream",
     "text": [
      "y_train unique values: [0 1]\n",
      "y_test unique values: [0 1]\n"
     ]
    }
   ],
   "source": [
    "from sklearn.model_selection import train_test_split\n",
    "\n",
    "X_train, X_test, y_train, y_test = train_test_split(X, y, test_size=0.2, random_state=42, stratify=y)\n",
    "\n",
    "# Verify that y_train and y_test contain only numerical values\n",
    "print(\"y_train unique values:\", np.unique(y_train))\n",
    "print(\"y_test unique values:\", np.unique(y_test))"
   ]
  },
  {
   "cell_type": "code",
   "execution_count": 10,
   "id": "70ae82f3-f915-495e-90ce-0444f49a3818",
   "metadata": {},
   "outputs": [
    {
     "name": "stdout",
     "output_type": "stream",
     "text": [
      "Logistic Regression trained successfully!\n",
      "Random Forest trained successfully!\n",
      "XGBoost trained successfully!\n"
     ]
    }
   ],
   "source": [
    "models = {\n",
    "    \"Logistic Regression\": LogisticRegression(),\n",
    "    \"Random Forest\": RandomForestClassifier(),\n",
    "    \"XGBoost\": XGBClassifier()\n",
    "}\n",
    "\n",
    "for name, model in models.items():\n",
    "    model.fit(X_train, y_train)\n",
    "    print(f\"{name} trained successfully!\")"
   ]
  },
  {
   "cell_type": "code",
   "execution_count": 12,
   "id": "8de544c5-8bff-4178-8818-65ce6034fa27",
   "metadata": {},
   "outputs": [
    {
     "name": "stdout",
     "output_type": "stream",
     "text": [
      "Models saved successfully!\n"
     ]
    }
   ],
   "source": [
    "import joblib\n",
    "\n",
    "# Loop through the models dictionary and save each model\n",
    "for name, model in models.items():\n",
    "    joblib.dump(model, f\"../models/{name.lower().replace(' ', '_')}.pkl\")\n",
    "\n",
    "print(\"Models saved successfully!\")"
   ]
  },
  {
   "cell_type": "code",
   "execution_count": null,
   "id": "ce119211-20b4-4360-93a4-34e0929835a8",
   "metadata": {},
   "outputs": [],
   "source": []
  }
 ],
 "metadata": {
  "kernelspec": {
   "display_name": "Python 3 (ipykernel)",
   "language": "python",
   "name": "python3"
  },
  "language_info": {
   "codemirror_mode": {
    "name": "ipython",
    "version": 3
   },
   "file_extension": ".py",
   "mimetype": "text/x-python",
   "name": "python",
   "nbconvert_exporter": "python",
   "pygments_lexer": "ipython3",
   "version": "3.12.4"
  }
 },
 "nbformat": 4,
 "nbformat_minor": 5
}
